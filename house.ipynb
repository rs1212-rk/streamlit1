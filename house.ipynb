{
 "cells": [
  {
   "cell_type": "code",
   "execution_count": null,
   "id": "eab50e70",
   "metadata": {
    "vscode": {
     "languageId": "plaintext"
    }
   },
   "outputs": [],
   "source": []
  },
  {
   "cell_type": "code",
   "execution_count": null,
   "id": "9bdaed0a",
   "metadata": {
    "vscode": {
     "languageId": "plaintext"
    }
   },
   "outputs": [],
   "source": [
    "import pandas as pd\n",
    "from sklearn.linear_model import LinearRegression\n",
    "from sklearn.metrics import mean_absolute_error, mean_squared_error, r2_score\n",
    "from sklearn.preprocessing import StandardScaler\n",
    "import numpy as np\n",
    "import joblib\n",
    "df = pd.read_csv('using.csv')\n",
    "# Independent variable\n",
    "X = df[['total_rooms']]\n",
    "# Dependent variable\n",
    "y = df['median_use_value']\n",
    "\n",
    "# Scale the independent variable\n",
    "scaler = StandardScaler()\n",
    "X_scaled = scaler.fit_transform(X)\n",
    "\n",
    "# Initialize the model\n",
    "model = LinearRegression()\n",
    "# Train the model\n",
    "model.fit(X_scaled, y)\n",
    "\n",
    "# Make predictions\n",
    "y_pred = model.predict(X_scaled)\n",
    "# Display the first few predicted values\n",
    "print(\"Predicted use Values:\")\n",
    "print(y_pred[:5])\n",
    "\n",
    "# Calculate evaluation metrics\n",
    "mae = mean_absolute_error(y, y_pred)\n",
    "rmse = np.sqrt(mean_squared_error(y, y_pred))\n",
    "r2 = r2_score(y, y_pred)\n",
    "\n",
    "# Print the results\n",
    "print(\"Mean Absolute Error (MAE):\", mae)\n",
    "print(\"Root Mean Squared Error (RMSE):\", rmse)\n",
    "print(\"R-squared (R²):\", r2)\n",
    "\n",
    "joblib.dump(model, \"use_model.pkl\")\n",
    "joblib.dump(scaler, \"scaler.pkl\")"
   ]
  }
 ],
 "metadata": {
  "language_info": {
   "name": "pytn"
  }
 },
 "nbformat": 4,
 "nbformat_minor": 5
}
