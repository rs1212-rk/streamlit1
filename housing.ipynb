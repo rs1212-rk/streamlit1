{
  "nbformat": 4,
  "nbformat_minor": 0,
  "metadata": {
    "colab": {
      "provenance": [],
      "authorship_tag": "ABX9TyOKB8RBQSurrKmyue5ijFNn",
      "include_colab_link": true
    },
    "kernelspec": {
      "name": "python3",
      "display_name": "Python 3"
    },
    "language_info": {
      "name": "python"
    }
  },
  "cells": [
    {
      "cell_type": "markdown",
      "metadata": {
        "id": "view-in-github",
        "colab_type": "text"
      },
      "source": [
        "<a href=\"https://colab.research.google.com/github/rs1212-rk/streamlit1/blob/main/housing.ipynb\" target=\"_parent\"><img src=\"https://colab.research.google.com/assets/colab-badge.svg\" alt=\"Open In Colab\"/></a>"
      ]
    },
    {
      "cell_type": "code",
      "execution_count": 3,
      "metadata": {
        "colab": {
          "base_uri": "https://localhost:8080/"
        },
        "id": "l3fBdyj1RD1D",
        "outputId": "806510ac-d8af-492c-e87b-1c98c2c42f95"
      },
      "outputs": [
        {
          "output_type": "stream",
          "name": "stdout",
          "text": [
            "Predicted House Values:\n",
            "[194396.9708832  238526.82203164 198562.30656806 197192.78393233\n",
            " 199697.662121  ]\n",
            "Mean Absolute Error (MAE): 89931.67504919827\n",
            "Root Mean Squared Error (RMSE): 114349.7403659444\n",
            "R-squared (R²): 0.017997057943996753\n"
          ]
        },
        {
          "output_type": "execute_result",
          "data": {
            "text/plain": [
              "['scaler.pkl']"
            ]
          },
          "metadata": {},
          "execution_count": 3
        }
      ],
      "source": [
        "import pandas as pd\n",
        "from sklearn.linear_model import LinearRegression\n",
        "from sklearn.metrics import mean_absolute_error, mean_squared_error, r2_score\n",
        "from sklearn.preprocessing import StandardScaler\n",
        "import numpy as np\n",
        "import joblib\n",
        "df = pd.read_csv('housing.csv')\n",
        "# Independent variable\n",
        "X = df[['total_rooms']]\n",
        "# Dependent variable\n",
        "y = df['median_house_value']\n",
        "\n",
        "# Scale the independent variable\n",
        "scaler = StandardScaler()\n",
        "X_scaled = scaler.fit_transform(X)\n",
        "\n",
        "# Initialize the model\n",
        "model = LinearRegression()\n",
        "# Train the model\n",
        "model.fit(X_scaled, y)\n",
        "\n",
        "# Make predictions\n",
        "y_pred = model.predict(X_scaled)\n",
        "# Display the first few predicted values\n",
        "print(\"Predicted House Values:\")\n",
        "print(y_pred[:5])\n",
        "\n",
        "# Calculate evaluation metrics\n",
        "mae = mean_absolute_error(y, y_pred)\n",
        "rmse = np.sqrt(mean_squared_error(y, y_pred))\n",
        "r2 = r2_score(y, y_pred)\n",
        "\n",
        "# Print the results\n",
        "print(\"Mean Absolute Error (MAE):\", mae)\n",
        "print(\"Root Mean Squared Error (RMSE):\", rmse)\n",
        "print(\"R-squared (R²):\", r2)\n",
        "\n",
        "joblib.dump(model, \"house_model.pkl\")\n",
        "joblib.dump(scaler, \"scaler.pkl\")"
      ]
    }
  ]
}